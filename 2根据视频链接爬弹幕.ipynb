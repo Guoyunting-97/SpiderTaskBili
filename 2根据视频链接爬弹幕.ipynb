{
 "cells": [
  {
   "cell_type": "markdown",
   "metadata": {},
   "source": [
    "# 根据视频链接，爬取弹幕"
   ]
  },
  {
   "cell_type": "markdown",
   "metadata": {},
   "source": [
    "## 导入需要的库"
   ]
  },
  {
   "cell_type": "code",
   "execution_count": 1,
   "metadata": {},
   "outputs": [],
   "source": [
    "import requests\n",
    "import csv\n",
    "import re\n",
    "import time\n",
    "from bs4 import BeautifulSoup\n",
    "import os"
   ]
  },
  {
   "cell_type": "markdown",
   "metadata": {},
   "source": [
    "## 根据视频链接，获取视频oid"
   ]
  },
  {
   "cell_type": "code",
   "execution_count": 2,
   "metadata": {},
   "outputs": [],
   "source": [
    "def getVideoOid(url):\n",
    "    ret = requests.get(url)\n",
    "    oid = re.findall('cid=(.*?)&aid=',ret.text)[0]\n",
    "    return oid"
   ]
  },
  {
   "cell_type": "markdown",
   "metadata": {},
   "source": [
    "## 根据视频oid，获取视频弹幕"
   ]
  },
  {
   "cell_type": "code",
   "execution_count": 3,
   "metadata": {},
   "outputs": [],
   "source": [
    "def get_barrage(oid):\n",
    "    url = 'https://api.bilibili.com/x/v1/dm/list.so?oid={}'.format(oid)\n",
    "    headers = {\n",
    "        'upgrade-insecure-requests': '1',\n",
    "        'user-agent': 'Mozilla/5.0 (Windows NT 10.0; WOW64) AppleWebKit/537.36 (KHTML, like Gecko) Chrome/74.0.3729.169 Safari/537.36'\n",
    "    }\n",
    "    ret = requests.get(url,headers = headers,timeout = 10)\n",
    "    ret.encoding = ret.apparent_encoding\n",
    "    soup = BeautifulSoup(ret.text,'html.parser')\n",
    "    data_list = soup.find_all('d')\n",
    "    ret_list = []\n",
    "    for data in data_list:\n",
    "        barrage = data.get_text()\n",
    "        ret_list.append([barrage,''])\n",
    "    return ret_list"
   ]
  },
  {
   "cell_type": "markdown",
   "metadata": {},
   "source": [
    "## 保存弹幕数据"
   ]
  },
  {
   "cell_type": "code",
   "execution_count": 4,
   "metadata": {},
   "outputs": [],
   "source": [
    "def save_comments(id,data_list):\n",
    "    # f = open(PATH+'/%s.csv'%(id+1),'w',encoding='utf-8-sig',newline='')\n",
    "    f = open('barrage.csv','a',encoding='utf-8-sig',newline='')\n",
    "    c = csv.writer(f)\n",
    "    for data in data_list:\n",
    "        c.writerow(data)\n",
    "    f.close()"
   ]
  },
  {
   "cell_type": "markdown",
   "metadata": {},
   "source": [
    "## 运行爬虫"
   ]
  },
  {
   "cell_type": "code",
   "execution_count": 6,
   "metadata": {},
   "outputs": [
    {
     "name": "stdout",
     "output_type": "stream",
     "text": [
      "get 1 video barrage success!\n",
      "get 2 video barrage success!\n",
      "get 3 video barrage success!\n",
      "get 4 video barrage success!\n",
      "get 5 video barrage success!\n",
      "get 6 video barrage success!\n",
      "get 7 video barrage success!\n",
      "get 8 video barrage success!\n",
      "get 9 video barrage success!\n",
      "get 10 video barrage success!\n",
      "get 11 video barrage success!\n",
      "get 12 video barrage success!\n",
      "get 13 video barrage success!\n",
      "get 14 video barrage success!\n",
      "get 15 video barrage success!\n",
      "get 16 video barrage success!\n",
      "get 17 video barrage success!\n",
      "get 18 video barrage success!\n"
     ]
    }
   ],
   "source": [
    "if __name__ == '__main__':\n",
    "    PATH = 'barrage'\n",
    "    if not os.path.exists(PATH):\n",
    "        os.mkdir(PATH)\n",
    "    f = open('18videos.txt','r')\n",
    "    textList = f.readlines()\n",
    "    f.close()\n",
    "    for k,url in enumerate(textList):\n",
    "        try:\n",
    "            oid = getVideoOid(url.replace('\\n',''))\n",
    "        except:\n",
    "            continue\n",
    "        time.sleep(5)\n",
    "        data_list = get_barrage(oid)\n",
    "        save_comments(k, data_list)\n",
    "        print('get %d video barrage success!' % (k + 1))\n",
    "        time.sleep(3)"
   ]
  },
  {
   "cell_type": "code",
   "execution_count": null,
   "metadata": {},
   "outputs": [],
   "source": []
  },
  {
   "cell_type": "code",
   "execution_count": null,
   "metadata": {},
   "outputs": [],
   "source": []
  }
 ],
 "metadata": {
  "kernelspec": {
   "display_name": "Python 3",
   "language": "python",
   "name": "python3"
  },
  "language_info": {
   "codemirror_mode": {
    "name": "ipython",
    "version": 3
   },
   "file_extension": ".py",
   "mimetype": "text/x-python",
   "name": "python",
   "nbconvert_exporter": "python",
   "pygments_lexer": "ipython3",
   "version": "3.7.8"
  }
 },
 "nbformat": 4,
 "nbformat_minor": 4
}
